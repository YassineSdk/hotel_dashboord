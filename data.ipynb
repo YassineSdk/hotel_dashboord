{
 "cells": [
  {
   "cell_type": "code",
   "execution_count": 1,
   "id": "f766a940",
   "metadata": {},
   "outputs": [],
   "source": [
    "import pandas as pd "
   ]
  },
  {
   "cell_type": "code",
   "execution_count": null,
   "id": "6fad1ec3",
   "metadata": {},
   "outputs": [],
   "source": [
    "import pandas as pd\n",
    "\n",
    "rooms_df = pd.DataFrame([\n",
    "    {\"number\": \"101\", \"type\": \"single\", \"price_per_night\": 75.00},\n",
    "    {\"number\": \"102\", \"type\": \"single\", \"price_per_night\": 75.00},\n",
    "    {\"number\": \"201\", \"type\": \"double\", \"price_per_night\": 120.00},\n",
    "    {\"number\": \"202\", \"type\": \"double\", \"price_per_night\": 120.00},\n",
    "    {\"number\": \"301\", \"type\": \"suite\",  \"price_per_night\": 200.00},\n",
    "    {\"number\": \"302\", \"type\": \"suite\",  \"price_per_night\": 220.00},\n",
    "])\n",
    "rooms_df.to_csv('rooms_data.csv')"
   ]
  },
  {
   "cell_type": "code",
   "execution_count": null,
   "id": "38b3b557",
   "metadata": {},
   "outputs": [],
   "source": [
    "from datetime import date, timedelta\n",
    "\n",
    "bookings_df = pd.DataFrame([\n",
    "    {\n",
    "        \"id\": 1,\n",
    "        \"guest_id\": 1,\n",
    "        \"room_id\": 1,\n",
    "        \"check_in\": date.today(),\n",
    "        \"check_out\": date.today() + timedelta(days=2),\n",
    "        \"status\": \"confirmed\"\n",
    "    },\n",
    "    {\n",
    "        \"id\": 2,\n",
    "        \"guest_id\": 2,\n",
    "        \"room_id\": 3,\n",
    "        \"check_in\": date.today() + timedelta(days=1),\n",
    "        \"check_out\": date.today() + timedelta(days=4),\n",
    "        \"status\": \"confirmed\"\n",
    "    }\n",
    "])\n"
   ]
  },
  {
   "cell_type": "code",
   "execution_count": 32,
   "id": "72ab5193",
   "metadata": {},
   "outputs": [],
   "source": [
    "from booking import  get_avaible_metrics\n",
    "from database import  execute_query\n",
    "import pandas as pd\n",
    "import datetime \n",
    "def get_avaible_metrics() :\n",
    "    query = \"\"\"\n",
    "    select number , type  from rooms where  id not in ( \n",
    "    select room_id from bookings\n",
    "    where not (check_out <= %s OR check_in >= %s));\n",
    "    \"\"\"\n",
    "\n",
    "    result = execute_query(query,(datetime.date.today(), pd.to_datetime(\"2025-06-23\") + dt.timedelta(days=2)),fetch=True)\n",
    "    data = pd.DataFrame(result)\n",
    "    nom_rooms = data['number'].count()\n",
    "    return int(nom_rooms)\n",
    "av_room =   get_avaible_metrics()  "
   ]
  },
  {
   "cell_type": "code",
   "execution_count": 30,
   "id": "32054540",
   "metadata": {},
   "outputs": [
    {
     "data": {
      "text/plain": [
       "2"
      ]
     },
     "execution_count": 30,
     "metadata": {},
     "output_type": "execute_result"
    }
   ],
   "source": [
    "av_room"
   ]
  }
 ],
 "metadata": {
  "kernelspec": {
   "display_name": "env_1-",
   "language": "python",
   "name": "python3"
  },
  "language_info": {
   "codemirror_mode": {
    "name": "ipython",
    "version": 3
   },
   "file_extension": ".py",
   "mimetype": "text/x-python",
   "name": "python",
   "nbconvert_exporter": "python",
   "pygments_lexer": "ipython3",
   "version": "3.13.3"
  }
 },
 "nbformat": 4,
 "nbformat_minor": 5
}
